{
 "cells": [
  {
   "cell_type": "markdown",
   "metadata": {},
   "source": [
    "#### Данное решение не является решением изначальной задачи. \n",
    "\n",
    "Здесь мы хотим узнать затраты на 1 итерацию запланированных ремонтов. Изначальная же задача состоит в том, чтобы для всего временного интервала и всех вагонов отдать даты ремонтов, которые могут происходить раньше запланированных."
   ]
  },
  {
   "cell_type": "code",
   "execution_count": 22,
   "metadata": {
    "ExecuteTime": {
     "end_time": "2018-05-18T13:27:27.495676Z",
     "start_time": "2018-05-18T13:27:27.478627Z"
    }
   },
   "outputs": [],
   "source": [
    "import pandas as pd"
   ]
  },
  {
   "cell_type": "code",
   "execution_count": 50,
   "metadata": {
    "ExecuteTime": {
     "end_time": "2018-05-18T13:42:45.972538Z",
     "start_time": "2018-05-18T13:42:45.890420Z"
    }
   },
   "outputs": [
    {
     "data": {
      "text/html": [
       "<div>\n",
       "<style scoped>\n",
       "    .dataframe tbody tr th:only-of-type {\n",
       "        vertical-align: middle;\n",
       "    }\n",
       "\n",
       "    .dataframe tbody tr th {\n",
       "        vertical-align: top;\n",
       "    }\n",
       "\n",
       "    .dataframe thead th {\n",
       "        text-align: right;\n",
       "    }\n",
       "</style>\n",
       "<table border=\"1\" class=\"dataframe\">\n",
       "  <thead>\n",
       "    <tr style=\"text-align: right;\">\n",
       "      <th></th>\n",
       "      <th>car_num</th>\n",
       "      <th>ct_name</th>\n",
       "      <th>psevdoname</th>\n",
       "      <th>std_kap</th>\n",
       "      <th>std_ppr</th>\n",
       "      <th>std_dep</th>\n",
       "      <th>std_vogi</th>\n",
       "    </tr>\n",
       "  </thead>\n",
       "  <tbody>\n",
       "    <tr>\n",
       "      <th>0</th>\n",
       "      <td>57463085</td>\n",
       "      <td>Газовые</td>\n",
       "      <td>15-78-5</td>\n",
       "      <td>2021-08-08</td>\n",
       "      <td>2018-08-26</td>\n",
       "      <td>2019-08-31</td>\n",
       "      <td>2019-05-19</td>\n",
       "    </tr>\n",
       "  </tbody>\n",
       "</table>\n",
       "</div>"
      ],
      "text/plain": [
       "    car_num  ct_name psevdoname     std_kap     std_ppr     std_dep  \\\n",
       "0  57463085  Газовые    15-78-5  2021-08-08  2018-08-26  2019-08-31   \n",
       "\n",
       "     std_vogi  \n",
       "0  2019-05-19  "
      ]
     },
     "execution_count": 50,
     "metadata": {},
     "output_type": "execute_result"
    }
   ],
   "source": [
    "car = 57463085  # возьмем только один вагон\n",
    "repares = pd.read_csv('Sibur_2_dataset/Вагоны и плановые ремонты.csv')\n",
    "repares = repares[repares['car_num'] == car]\n",
    "repares"
   ]
  },
  {
   "cell_type": "code",
   "execution_count": 52,
   "metadata": {
    "ExecuteTime": {
     "end_time": "2018-05-18T13:43:08.795205Z",
     "start_time": "2018-05-18T13:43:06.716841Z"
    },
    "scrolled": true
   },
   "outputs": [
    {
     "data": {
      "text/html": [
       "<div>\n",
       "<style scoped>\n",
       "    .dataframe tbody tr th:only-of-type {\n",
       "        vertical-align: middle;\n",
       "    }\n",
       "\n",
       "    .dataframe tbody tr th {\n",
       "        vertical-align: top;\n",
       "    }\n",
       "\n",
       "    .dataframe thead th {\n",
       "        text-align: right;\n",
       "    }\n",
       "</style>\n",
       "<table border=\"1\" class=\"dataframe\">\n",
       "  <thead>\n",
       "    <tr style=\"text-align: right;\">\n",
       "      <th></th>\n",
       "      <th>car_num</th>\n",
       "      <th>date</th>\n",
       "      <th>station_id</th>\n",
       "    </tr>\n",
       "  </thead>\n",
       "  <tbody>\n",
       "    <tr>\n",
       "      <th>0</th>\n",
       "      <td>57463085</td>\n",
       "      <td>2015-01-01</td>\n",
       "      <td>2</td>\n",
       "    </tr>\n",
       "    <tr>\n",
       "      <th>1</th>\n",
       "      <td>57463085</td>\n",
       "      <td>2015-01-25</td>\n",
       "      <td>6</td>\n",
       "    </tr>\n",
       "    <tr>\n",
       "      <th>2</th>\n",
       "      <td>57463085</td>\n",
       "      <td>2015-02-18</td>\n",
       "      <td>9</td>\n",
       "    </tr>\n",
       "    <tr>\n",
       "      <th>3</th>\n",
       "      <td>57463085</td>\n",
       "      <td>2015-03-14</td>\n",
       "      <td>5</td>\n",
       "    </tr>\n",
       "    <tr>\n",
       "      <th>4</th>\n",
       "      <td>57463085</td>\n",
       "      <td>2015-04-07</td>\n",
       "      <td>8</td>\n",
       "    </tr>\n",
       "  </tbody>\n",
       "</table>\n",
       "</div>"
      ],
      "text/plain": [
       "    car_num        date  station_id\n",
       "0  57463085  2015-01-01           2\n",
       "1  57463085  2015-01-25           6\n",
       "2  57463085  2015-02-18           9\n",
       "3  57463085  2015-03-14           5\n",
       "4  57463085  2015-04-07           8"
      ]
     },
     "execution_count": 52,
     "metadata": {},
     "output_type": "execute_result"
    }
   ],
   "source": [
    "movements = pd.read_csv('Sibur_2_dataset/Передвижения вагонов по датам.csv')\n",
    "movements = movements[movements['car_num'] == car]\n",
    "movements.head()"
   ]
  },
  {
   "cell_type": "code",
   "execution_count": 51,
   "metadata": {
    "ExecuteTime": {
     "end_time": "2018-05-18T13:43:02.389164Z",
     "start_time": "2018-05-18T13:43:02.373211Z"
    }
   },
   "outputs": [
    {
     "data": {
      "text/html": [
       "<div>\n",
       "<style scoped>\n",
       "    .dataframe tbody tr th:only-of-type {\n",
       "        vertical-align: middle;\n",
       "    }\n",
       "\n",
       "    .dataframe tbody tr th {\n",
       "        vertical-align: top;\n",
       "    }\n",
       "\n",
       "    .dataframe thead th {\n",
       "        text-align: right;\n",
       "    }\n",
       "</style>\n",
       "<table border=\"1\" class=\"dataframe\">\n",
       "  <thead>\n",
       "    <tr style=\"text-align: right;\">\n",
       "      <th></th>\n",
       "      <th>id</th>\n",
       "      <th>repair_name</th>\n",
       "      <th>repair_cost</th>\n",
       "    </tr>\n",
       "  </thead>\n",
       "  <tbody>\n",
       "    <tr>\n",
       "      <th>0</th>\n",
       "      <td>1</td>\n",
       "      <td>Капитальный ремонт</td>\n",
       "      <td>94000000</td>\n",
       "    </tr>\n",
       "    <tr>\n",
       "      <th>1</th>\n",
       "      <td>2</td>\n",
       "      <td>Деповской ремонт</td>\n",
       "      <td>19000000</td>\n",
       "    </tr>\n",
       "    <tr>\n",
       "      <th>2</th>\n",
       "      <td>3</td>\n",
       "      <td>Плановый предупредительный ремонт</td>\n",
       "      <td>13000000</td>\n",
       "    </tr>\n",
       "    <tr>\n",
       "      <th>3</th>\n",
       "      <td>4</td>\n",
       "      <td>Вакуумная очистка и гидроиспытания (ВОиГИ)</td>\n",
       "      <td>18000000</td>\n",
       "    </tr>\n",
       "  </tbody>\n",
       "</table>\n",
       "</div>"
      ],
      "text/plain": [
       "   id                                 repair_name  repair_cost\n",
       "0   1                          Капитальный ремонт     94000000\n",
       "1   2                            Деповской ремонт     19000000\n",
       "2   3           Плановый предупредительный ремонт     13000000\n",
       "3   4  Вакуумная очистка и гидроиспытания (ВОиГИ)     18000000"
      ]
     },
     "execution_count": 51,
     "metadata": {},
     "output_type": "execute_result"
    }
   ],
   "source": [
    "repare_prices = pd.read_csv('Sibur_2_dataset/Плановые ремонты со стоимостями.csv')\n",
    "repare_prices"
   ]
  },
  {
   "cell_type": "code",
   "execution_count": 68,
   "metadata": {
    "ExecuteTime": {
     "end_time": "2018-05-18T15:19:46.080681Z",
     "start_time": "2018-05-18T15:19:46.075009Z"
    }
   },
   "outputs": [],
   "source": [
    "repare_prices = {'std_kap': 94000000, \n",
    "                 'std_ppr': 19000000, \n",
    "                 'std_dep': 13000000, \n",
    "                 'std_vogi': 18000000, \n",
    "                 'preparation': 3000000}\n",
    "price_for_km = 1000"
   ]
  },
  {
   "cell_type": "code",
   "execution_count": 54,
   "metadata": {
    "ExecuteTime": {
     "end_time": "2018-05-18T13:43:24.923136Z",
     "start_time": "2018-05-18T13:43:24.906187Z"
    }
   },
   "outputs": [
    {
     "data": {
      "text/html": [
       "<div>\n",
       "<style scoped>\n",
       "    .dataframe tbody tr th:only-of-type {\n",
       "        vertical-align: middle;\n",
       "    }\n",
       "\n",
       "    .dataframe tbody tr th {\n",
       "        vertical-align: top;\n",
       "    }\n",
       "\n",
       "    .dataframe thead th {\n",
       "        text-align: right;\n",
       "    }\n",
       "</style>\n",
       "<table border=\"1\" class=\"dataframe\">\n",
       "  <thead>\n",
       "    <tr style=\"text-align: right;\">\n",
       "      <th></th>\n",
       "      <th>station_id</th>\n",
       "      <th>name</th>\n",
       "      <th>depo_id</th>\n",
       "      <th>depo_name</th>\n",
       "      <th>distance_to_depo</th>\n",
       "    </tr>\n",
       "  </thead>\n",
       "  <tbody>\n",
       "    <tr>\n",
       "      <th>0</th>\n",
       "      <td>1</td>\n",
       "      <td>Сосновка</td>\n",
       "      <td>1</td>\n",
       "      <td>Депо-Ленинское</td>\n",
       "      <td>10077</td>\n",
       "    </tr>\n",
       "    <tr>\n",
       "      <th>1</th>\n",
       "      <td>1</td>\n",
       "      <td>Сосновка</td>\n",
       "      <td>2</td>\n",
       "      <td>Депо-Комсомольское</td>\n",
       "      <td>10436</td>\n",
       "    </tr>\n",
       "    <tr>\n",
       "      <th>2</th>\n",
       "      <td>1</td>\n",
       "      <td>Сосновка</td>\n",
       "      <td>3</td>\n",
       "      <td>Депо-Молодежное</td>\n",
       "      <td>10522</td>\n",
       "    </tr>\n",
       "    <tr>\n",
       "      <th>3</th>\n",
       "      <td>2</td>\n",
       "      <td>Липовка</td>\n",
       "      <td>1</td>\n",
       "      <td>Депо-Ленинское</td>\n",
       "      <td>2084</td>\n",
       "    </tr>\n",
       "    <tr>\n",
       "      <th>4</th>\n",
       "      <td>2</td>\n",
       "      <td>Липовка</td>\n",
       "      <td>2</td>\n",
       "      <td>Депо-Комсомольское</td>\n",
       "      <td>3789</td>\n",
       "    </tr>\n",
       "  </tbody>\n",
       "</table>\n",
       "</div>"
      ],
      "text/plain": [
       "   station_id      name  depo_id           depo_name  distance_to_depo\n",
       "0           1  Сосновка        1      Депо-Ленинское             10077\n",
       "1           1  Сосновка        2  Депо-Комсомольское             10436\n",
       "2           1  Сосновка        3     Депо-Молодежное             10522\n",
       "3           2   Липовка        1      Депо-Ленинское              2084\n",
       "4           2   Липовка        2  Депо-Комсомольское              3789"
      ]
     },
     "execution_count": 54,
     "metadata": {},
     "output_type": "execute_result"
    }
   ],
   "source": [
    "distances = pd.read_csv('Sibur_2_dataset/Расстояния от станций до ремонтных депо.csv')\n",
    "distances.head()"
   ]
  },
  {
   "cell_type": "markdown",
   "metadata": {},
   "source": [
    "#### Посчитаем стоимость ремонтов, в случае, если делаем их по расписанию. \n",
    "\n",
    "Тут нужно сделать замечание, что мы считаем только 1 итерацию ремонтов. Правильнее будет посчитать все итерации: то есть если капитальный ремонт запланирован на 2021-08-08, но мы видим, что вагон эксплуатировался 2019 году, то 2019-08-08 у него должен был быть запланированный капитальный ремонт, т.к. ремонты утилизируются за 2 года"
   ]
  },
  {
   "cell_type": "code",
   "execution_count": 73,
   "metadata": {
    "ExecuteTime": {
     "end_time": "2018-05-19T08:05:39.853609Z",
     "start_time": "2018-05-19T08:05:39.789264Z"
    }
   },
   "outputs": [
    {
     "data": {
      "text/plain": [
       "172672000"
      ]
     },
     "execution_count": 73,
     "metadata": {},
     "output_type": "execute_result"
    }
   ],
   "source": [
    "def get_station_from_date(date):\n",
    "    for index, (car_num, station_date, station_id) in movements.iterrows():\n",
    "        if station_date < date:\n",
    "            return station_id\n",
    "    assert False, 'No stations before this date'\n",
    "\n",
    "total_repare_price = 0\n",
    "for repare_type in ['std_kap', 'std_ppr', 'std_dep', 'std_vogi']:\n",
    "    repare_date = repares[repare_type].values[0]\n",
    "    station_id = get_station_from_date(repare_date)\n",
    "    min_distance_to_depo = distances[distances['station_id'] == 2]['distance_to_depo'].min()\n",
    "    total_repare_price += 2 * min_distance_to_depo * price_for_km + \\\n",
    "            repare_prices[repare_type] + \\\n",
    "            repare_prices['preparation']\n",
    "\n",
    "total_repare_price"
   ]
  },
  {
   "cell_type": "code",
   "execution_count": null,
   "metadata": {},
   "outputs": [],
   "source": []
  }
 ],
 "metadata": {
  "kernelspec": {
   "display_name": "Python 3",
   "language": "python",
   "name": "python3"
  },
  "language_info": {
   "codemirror_mode": {
    "name": "ipython",
    "version": 3
   },
   "file_extension": ".py",
   "mimetype": "text/x-python",
   "name": "python",
   "nbconvert_exporter": "python",
   "pygments_lexer": "ipython3",
   "version": "3.6.4"
  }
 },
 "nbformat": 4,
 "nbformat_minor": 2
}
