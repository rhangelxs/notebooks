{
 "cells": [
  {
   "cell_type": "markdown",
   "metadata": {},
   "source": [
    "# Сегодня мы обойдемся без DeepPavlov"
   ]
  },
  {
   "cell_type": "code",
   "execution_count": 71,
   "metadata": {},
   "outputs": [],
   "source": [
    "import pandas as pd\n",
    "import numpy as np\n",
    "import dask.dataframe as dd\n",
    "\n",
    "import matplotlib.pyplot as plt\n",
    "\n"
   ]
  },
  {
   "cell_type": "code",
   "execution_count": 72,
   "metadata": {},
   "outputs": [],
   "source": [
    "from sklearn.feature_extraction.text import TfidfVectorizer, CountVectorizer, TfidfTransformer\n"
   ]
  },
  {
   "cell_type": "code",
   "execution_count": 73,
   "metadata": {},
   "outputs": [],
   "source": [
    "df = pd.read_csv(\"Log.dms\", sep='\\t')"
   ]
  },
  {
   "cell_type": "code",
   "execution_count": 74,
   "metadata": {},
   "outputs": [],
   "source": [
    "df.request = df.request.replace({\"https://yandex\\.ru/search/\\?text=\":\"\"}, regex=True)\n",
    "df[\"text\"] = df[\"request\"].map(str) + df[\"urls\"].map(str)"
   ]
  },
  {
   "cell_type": "code",
   "execution_count": 75,
   "metadata": {},
   "outputs": [
    {
     "data": {
      "text/html": [
       "<div>\n",
       "<style scoped>\n",
       "    .dataframe tbody tr th:only-of-type {\n",
       "        vertical-align: middle;\n",
       "    }\n",
       "\n",
       "    .dataframe tbody tr th {\n",
       "        vertical-align: top;\n",
       "    }\n",
       "\n",
       "    .dataframe thead th {\n",
       "        text-align: right;\n",
       "    }\n",
       "</style>\n",
       "<table border=\"1\" class=\"dataframe\">\n",
       "  <thead>\n",
       "    <tr style=\"text-align: right;\">\n",
       "      <th></th>\n",
       "      <th>timestamp</th>\n",
       "      <th>datetime</th>\n",
       "      <th>device</th>\n",
       "      <th>numdoc</th>\n",
       "      <th>region</th>\n",
       "      <th>request</th>\n",
       "      <th>urls</th>\n",
       "      <th>text</th>\n",
       "    </tr>\n",
       "  </thead>\n",
       "  <tbody>\n",
       "    <tr>\n",
       "      <th>0</th>\n",
       "      <td>1520974800</td>\n",
       "      <td>2018-03-14 00:00</td>\n",
       "      <td>desktop</td>\n",
       "      <td>317731505</td>\n",
       "      <td>6</td>\n",
       "      <td>порно видео секс за деньги</td>\n",
       "      <td>http://porno-sex-video.com/eroticheskie-filmy-...</td>\n",
       "      <td>порно видео секс за деньгиhttp://porno-sex-vid...</td>\n",
       "    </tr>\n",
       "    <tr>\n",
       "      <th>1</th>\n",
       "      <td>1520974800</td>\n",
       "      <td>2018-03-14 00:00</td>\n",
       "      <td>desktop</td>\n",
       "      <td>277053268</td>\n",
       "      <td>191</td>\n",
       "      <td>sad story скачать бесплатно mp3 в хорошем каче...</td>\n",
       "      <td>http://mp3party.net/music/8507899;http://muz-c...</td>\n",
       "      <td>sad story скачать бесплатно mp3 в хорошем каче...</td>\n",
       "    </tr>\n",
       "    <tr>\n",
       "      <th>2</th>\n",
       "      <td>1520974800</td>\n",
       "      <td>2018-03-14 00:00</td>\n",
       "      <td>touch</td>\n",
       "      <td>19987730</td>\n",
       "      <td>2</td>\n",
       "      <td>ольгино баня&amp;flag=l6707</td>\n",
       "      <td>http://www.bani.spb.ru/olgino.html;https://sau...</td>\n",
       "      <td>ольгино баня&amp;flag=l6707http://www.bani.spb.ru/...</td>\n",
       "    </tr>\n",
       "    <tr>\n",
       "      <th>3</th>\n",
       "      <td>1520974800</td>\n",
       "      <td>2018-03-14 00:00</td>\n",
       "      <td>touch</td>\n",
       "      <td>196215754</td>\n",
       "      <td>26955</td>\n",
       "      <td>фирменный магазин марко в г минске скидки акции</td>\n",
       "      <td>http://www.marko.by/actions/;https://marko.vit...</td>\n",
       "      <td>фирменный магазин марко в г минске скидки акци...</td>\n",
       "    </tr>\n",
       "    <tr>\n",
       "      <th>4</th>\n",
       "      <td>1520974800</td>\n",
       "      <td>2018-03-14 00:00</td>\n",
       "      <td>desktop</td>\n",
       "      <td>3909882795</td>\n",
       "      <td>101704</td>\n",
       "      <td>порно&amp;rl=313</td>\n",
       "      <td>http://porno365.xxx/;https://prostoporno.sex/c...</td>\n",
       "      <td>порно&amp;rl=313http://porno365.xxx/;https://prost...</td>\n",
       "    </tr>\n",
       "  </tbody>\n",
       "</table>\n",
       "</div>"
      ],
      "text/plain": [
       "    timestamp          datetime   device      numdoc  region  \\\n",
       "0  1520974800  2018-03-14 00:00  desktop   317731505       6   \n",
       "1  1520974800  2018-03-14 00:00  desktop   277053268     191   \n",
       "2  1520974800  2018-03-14 00:00    touch    19987730       2   \n",
       "3  1520974800  2018-03-14 00:00    touch   196215754   26955   \n",
       "4  1520974800  2018-03-14 00:00  desktop  3909882795  101704   \n",
       "\n",
       "                                             request  \\\n",
       "0                         порно видео секс за деньги   \n",
       "1  sad story скачать бесплатно mp3 в хорошем каче...   \n",
       "2                            ольгино баня&flag=l6707   \n",
       "3    фирменный магазин марко в г минске скидки акции   \n",
       "4                                       порно&rl=313   \n",
       "\n",
       "                                                urls  \\\n",
       "0  http://porno-sex-video.com/eroticheskie-filmy-...   \n",
       "1  http://mp3party.net/music/8507899;http://muz-c...   \n",
       "2  http://www.bani.spb.ru/olgino.html;https://sau...   \n",
       "3  http://www.marko.by/actions/;https://marko.vit...   \n",
       "4  http://porno365.xxx/;https://prostoporno.sex/c...   \n",
       "\n",
       "                                                text  \n",
       "0  порно видео секс за деньгиhttp://porno-sex-vid...  \n",
       "1  sad story скачать бесплатно mp3 в хорошем каче...  \n",
       "2  ольгино баня&flag=l6707http://www.bani.spb.ru/...  \n",
       "3  фирменный магазин марко в г минске скидки акци...  \n",
       "4  порно&rl=313http://porno365.xxx/;https://prost...  "
      ]
     },
     "execution_count": 75,
     "metadata": {},
     "output_type": "execute_result"
    }
   ],
   "source": [
    "df.head()"
   ]
  },
  {
   "cell_type": "code",
   "execution_count": 76,
   "metadata": {},
   "outputs": [
    {
     "data": {
      "text/plain": [
       "1333503"
      ]
     },
     "execution_count": 76,
     "metadata": {},
     "output_type": "execute_result"
    }
   ],
   "source": [
    "len(df)"
   ]
  },
  {
   "cell_type": "markdown",
   "metadata": {},
   "source": [
    "Интернет нужен для порно :)\n",
    "\n",
    "А поскольку оно не идет по ТВ, значит все, что попадает сюда — точно не относится к ТВ."
   ]
  },
  {
   "cell_type": "code",
   "execution_count": 103,
   "metadata": {},
   "outputs": [
    {
     "data": {
      "text/plain": [
       "51640"
      ]
     },
     "execution_count": 103,
     "metadata": {},
     "output_type": "execute_result"
    }
   ],
   "source": [
    "pron_keywords = ['porn', 'порн', 'xxx']\n",
    "pron = df.text.str.contains(\"|\".join(pron_keywords), na=False)\n",
    "pron = pron.replace(True, -1)\n",
    "pron = pron.replace(False, 0)\n",
    "len(pron[pron == -1])"
   ]
  },
  {
   "cell_type": "code",
   "execution_count": 104,
   "metadata": {},
   "outputs": [],
   "source": [
    "df[\"pron\"] = pron\n"
   ]
  },
  {
   "cell_type": "code",
   "execution_count": null,
   "metadata": {},
   "outputs": [],
   "source": []
  },
  {
   "cell_type": "markdown",
   "metadata": {},
   "source": [
    "Без обучающей выборки будем искать по ключевым словам"
   ]
  },
  {
   "cell_type": "code",
   "execution_count": 120,
   "metadata": {},
   "outputs": [],
   "source": [
    "other_keywords = [\"скачать\", \"mp3\", \"facebook.com\", \"vk.com\", \"погода\", \"читать\", \"maps\", \"купить\"]\n",
    "tv_keywords = [\".tv\", \"tv.ru\", \"сериал\"]"
   ]
  },
  {
   "cell_type": "code",
   "execution_count": 125,
   "metadata": {},
   "outputs": [
    {
     "name": "stdout",
     "output_type": "stream",
     "text": [
      "0    0.0\n",
      "1   -1.0\n",
      "2    0.0\n",
      "3    0.0\n",
      "4    0.0\n",
      "Name: text, dtype: float64\n",
      "1333503\n"
     ]
    },
    {
     "data": {
      "text/html": [
       "<div>\n",
       "<style scoped>\n",
       "    .dataframe tbody tr th:only-of-type {\n",
       "        vertical-align: middle;\n",
       "    }\n",
       "\n",
       "    .dataframe tbody tr th {\n",
       "        vertical-align: top;\n",
       "    }\n",
       "\n",
       "    .dataframe thead th {\n",
       "        text-align: right;\n",
       "    }\n",
       "</style>\n",
       "<table border=\"1\" class=\"dataframe\">\n",
       "  <thead>\n",
       "    <tr style=\"text-align: right;\">\n",
       "      <th>text</th>\n",
       "      <th>-1.0</th>\n",
       "      <th>0.0</th>\n",
       "    </tr>\n",
       "    <tr>\n",
       "      <th>text</th>\n",
       "      <th></th>\n",
       "      <th></th>\n",
       "    </tr>\n",
       "  </thead>\n",
       "  <tbody>\n",
       "    <tr>\n",
       "      <th>-1.0</th>\n",
       "      <td>215953</td>\n",
       "      <td>0</td>\n",
       "    </tr>\n",
       "    <tr>\n",
       "      <th>0.0</th>\n",
       "      <td>0</td>\n",
       "      <td>1117550</td>\n",
       "    </tr>\n",
       "  </tbody>\n",
       "</table>\n",
       "</div>"
      ],
      "text/plain": [
       "text    -1.0      0.0\n",
       "text                 \n",
       "-1.0  215953        0\n",
       " 0.0       0  1117550"
      ]
     },
     "execution_count": 125,
     "metadata": {},
     "output_type": "execute_result"
    },
    {
     "data": {
      "image/png": "[encoded data removed]",
      "text/plain": [
       "<matplotlib.figure.Figure at 0x122784198>"
      ]
     },
     "metadata": {},
     "output_type": "display_data"
    }
   ],
   "source": [
    "other = df.text.str.contains(\"|\".join(other_keywords), na=False)\n",
    "other = other.replace(True, -1)\n",
    "other = other.replace(False, 0)\n",
    "#other = other.astype('bool')\n",
    "print(other.head())\n",
    "print(len(other))\n",
    "other.hist()\n",
    "pd.crosstab(other, other)"
   ]
  },
  {
   "cell_type": "code",
   "execution_count": 126,
   "metadata": {},
   "outputs": [
    {
     "name": "stdout",
     "output_type": "stream",
     "text": [
      "0    0\n",
      "1    0\n",
      "2    0\n",
      "3    0\n",
      "4    0\n",
      "Name: text, dtype: int64\n",
      "1333503\n"
     ]
    },
    {
     "data": {
      "text/html": [
       "<div>\n",
       "<style scoped>\n",
       "    .dataframe tbody tr th:only-of-type {\n",
       "        vertical-align: middle;\n",
       "    }\n",
       "\n",
       "    .dataframe tbody tr th {\n",
       "        vertical-align: top;\n",
       "    }\n",
       "\n",
       "    .dataframe thead th {\n",
       "        text-align: right;\n",
       "    }\n",
       "</style>\n",
       "<table border=\"1\" class=\"dataframe\">\n",
       "  <thead>\n",
       "    <tr style=\"text-align: right;\">\n",
       "      <th>text</th>\n",
       "      <th>0</th>\n",
       "      <th>1</th>\n",
       "    </tr>\n",
       "    <tr>\n",
       "      <th>text</th>\n",
       "      <th></th>\n",
       "      <th></th>\n",
       "    </tr>\n",
       "  </thead>\n",
       "  <tbody>\n",
       "    <tr>\n",
       "      <th>0</th>\n",
       "      <td>1131378</td>\n",
       "      <td>0</td>\n",
       "    </tr>\n",
       "    <tr>\n",
       "      <th>1</th>\n",
       "      <td>0</td>\n",
       "      <td>202125</td>\n",
       "    </tr>\n",
       "  </tbody>\n",
       "</table>\n",
       "</div>"
      ],
      "text/plain": [
       "text        0       1\n",
       "text                 \n",
       "0     1131378       0\n",
       "1           0  202125"
      ]
     },
     "execution_count": 126,
     "metadata": {},
     "output_type": "execute_result"
    },
    {
     "data": {
      "image/png": "[encoded data removed]",
      "text/plain": [
       "<matplotlib.figure.Figure at 0x1bcfa9c88>"
      ]
     },
     "metadata": {},
     "output_type": "display_data"
    }
   ],
   "source": [
    "tv = df.text.str.contains(\"|\".join(tv_keywords), na=False)\n",
    "tv = tv.astype('int')\n",
    "\n",
    "\n",
    "\n",
    "print(tv.head())\n",
    "print(len(tv))\n",
    "tv.hist()\n",
    "\n",
    "pd.crosstab(tv, tv)"
   ]
  },
  {
   "cell_type": "code",
   "execution_count": 127,
   "metadata": {},
   "outputs": [
    {
     "data": {
      "text/html": [
       "<div>\n",
       "<style scoped>\n",
       "    .dataframe tbody tr th:only-of-type {\n",
       "        vertical-align: middle;\n",
       "    }\n",
       "\n",
       "    .dataframe tbody tr th {\n",
       "        vertical-align: top;\n",
       "    }\n",
       "\n",
       "    .dataframe thead th {\n",
       "        text-align: right;\n",
       "    }\n",
       "</style>\n",
       "<table border=\"1\" class=\"dataframe\">\n",
       "  <thead>\n",
       "    <tr style=\"text-align: right;\">\n",
       "      <th>tv</th>\n",
       "      <th>-1.0</th>\n",
       "      <th>0.0</th>\n",
       "      <th>1.0</th>\n",
       "    </tr>\n",
       "    <tr>\n",
       "      <th>tv</th>\n",
       "      <th></th>\n",
       "      <th></th>\n",
       "      <th></th>\n",
       "    </tr>\n",
       "  </thead>\n",
       "  <tbody>\n",
       "    <tr>\n",
       "      <th>-1.0</th>\n",
       "      <td>237454</td>\n",
       "      <td>0</td>\n",
       "      <td>0</td>\n",
       "    </tr>\n",
       "    <tr>\n",
       "      <th>0.0</th>\n",
       "      <td>0</td>\n",
       "      <td>922172</td>\n",
       "      <td>0</td>\n",
       "    </tr>\n",
       "    <tr>\n",
       "      <th>1.0</th>\n",
       "      <td>0</td>\n",
       "      <td>0</td>\n",
       "      <td>173877</td>\n",
       "    </tr>\n",
       "  </tbody>\n",
       "</table>\n",
       "</div>"
      ],
      "text/plain": [
       "tv      -1.0     0.0     1.0\n",
       "tv                          \n",
       "-1.0  237454       0       0\n",
       " 0.0       0  922172       0\n",
       " 1.0       0       0  173877"
      ]
     },
     "execution_count": 127,
     "metadata": {},
     "output_type": "execute_result"
    }
   ],
   "source": [
    "tv_column = tv + other + pron\n",
    "tv_column = tv_column.replace(-2,-1)\n",
    "#tv_column = tv_column.replace(0,np.NaN)\n",
    "df[\"tv\"] = tv_column\n",
    "pd.crosstab(df[\"tv\"], df[\"tv\"])"
   ]
  },
  {
   "cell_type": "code",
   "execution_count": 128,
   "metadata": {},
   "outputs": [],
   "source": [
    "train = df[df[\"tv\"].notnull()]"
   ]
  },
  {
   "cell_type": "code",
   "execution_count": 129,
   "metadata": {},
   "outputs": [],
   "source": [
    "tfidf_vectorizer = TfidfVectorizer(max_df=0.95, min_df=2,\n",
    "                                   max_features=1000,\n",
    "                                   stop_words=['english','russian']\n",
    "                                  )\n",
    "\n",
    "tfidf = tfidf_vectorizer.fit_transform(train[\"request\"])\n"
   ]
  },
  {
   "cell_type": "code",
   "execution_count": 130,
   "metadata": {},
   "outputs": [
    {
     "data": {
      "text/plain": [
       "(1333503, 1000)"
      ]
     },
     "execution_count": 130,
     "metadata": {},
     "output_type": "execute_result"
    }
   ],
   "source": [
    "tfidf.shape"
   ]
  },
  {
   "cell_type": "code",
   "execution_count": 131,
   "metadata": {},
   "outputs": [],
   "source": [
    "from sklearn.naive_bayes import MultinomialNB\n",
    "clf = MultinomialNB().fit(tfidf, train[\"tv\"])"
   ]
  },
  {
   "cell_type": "code",
   "execution_count": 132,
   "metadata": {},
   "outputs": [
    {
     "name": "stdout",
     "output_type": "stream",
     "text": [
      "'tv.is' => 1.0\n",
      "'Random flood?' => 0.0\n",
      "'mp3' => -1.0\n"
     ]
    }
   ],
   "source": [
    "test_new = ['tv.is', 'Random flood?', \"mp3\"]\n",
    "test_new_tfidf = tfidf_vectorizer.transform(test_new)\n",
    "\n",
    "predicted = clf.predict(test_new_tfidf)\n",
    "predicted\n",
    "\n",
    "for doc, category in zip(test_new, predicted):\n",
    "     print('%r => %s' % (doc, category))"
   ]
  },
  {
   "cell_type": "code",
   "execution_count": 153,
   "metadata": {},
   "outputs": [
    {
     "data": {
      "text/plain": [
       "Pipeline(memory=None,\n",
       "     steps=[('tfidf_std', TfidfVectorizer(analyzer='word', binary=False, decode_error='strict',\n",
       "        dtype=<class 'numpy.int64'>, encoding='utf-8', input='content',\n",
       "        lowercase=True, max_df=0.95, max_features=1000, min_df=2,\n",
       "        ngram_range=(1, 1), norm='l2', preprocessor=None, smooth_idf=Tr...ue, vocabulary=None)), ('clf', CalibratedClassifierCV(base_estimator=None, cv=3, method='sigmoid'))])"
      ]
     },
     "execution_count": 153,
     "metadata": {},
     "output_type": "execute_result"
    }
   ],
   "source": [
    "from sklearn.linear_model import SGDClassifier\n",
    "from sklearn.calibration import CalibratedClassifierCV\n",
    "from sklearn.pipeline import Pipeline\n",
    "\n",
    "# text_clf = Pipeline([('tfidf_std', tfidf_vectorizer),\n",
    "#                      ('clf', SGDClassifier(random_state=42, max_iter=5)),\n",
    "# ])\n",
    "text_clf = Pipeline([('tfidf_std', tfidf_vectorizer),\n",
    "                     ('clf', CalibratedClassifierCV()),\n",
    "])\n",
    "text_clf.fit(train[\"text\"], train[\"tv\"])"
   ]
  },
  {
   "cell_type": "code",
   "execution_count": 134,
   "metadata": {},
   "outputs": [],
   "source": [
    "predicted = text_clf.predict(train[\"text\"])"
   ]
  },
  {
   "cell_type": "code",
   "execution_count": null,
   "metadata": {},
   "outputs": [],
   "source": []
  },
  {
   "cell_type": "code",
   "execution_count": 135,
   "metadata": {},
   "outputs": [
    {
     "data": {
      "text/plain": [
       "0.8822589825444712"
      ]
     },
     "execution_count": 135,
     "metadata": {},
     "output_type": "execute_result"
    }
   ],
   "source": [
    "np.mean(predicted == train[\"tv\"])   "
   ]
  },
  {
   "cell_type": "code",
   "execution_count": 154,
   "metadata": {},
   "outputs": [
    {
     "name": "stdout",
     "output_type": "stream",
     "text": [
      "             precision    recall  f1-score   support\n",
      "\n",
      "       -1.0       0.94      0.81      0.87    237454\n",
      "        0.0       0.87      0.98      0.92    922172\n",
      "        1.0       0.91      0.47      0.62    173877\n",
      "\n",
      "avg / total       0.89      0.88      0.87   1333503\n",
      "\n"
     ]
    }
   ],
   "source": [
    "from sklearn import metrics\n",
    "print(metrics.classification_report(train[\"tv\"], predicted))"
   ]
  },
  {
   "cell_type": "code",
   "execution_count": 155,
   "metadata": {},
   "outputs": [],
   "source": [
    "predicted = text_clf.predict(df[\"text\"])\n"
   ]
  },
  {
   "cell_type": "code",
   "execution_count": 156,
   "metadata": {},
   "outputs": [
    {
     "data": {
      "text/plain": [
       "array([[7.98855787e-01, 2.01144213e-01, 1.72229569e-10],\n",
       "       [9.98287816e-01, 1.71186879e-03, 3.15535073e-07],\n",
       "       [2.24306393e-02, 9.29609471e-01, 4.79598902e-02],\n",
       "       ...,\n",
       "       [6.84186867e-03, 9.48051402e-01, 4.51067297e-02],\n",
       "       [8.82505207e-03, 9.11672753e-01, 7.95021953e-02],\n",
       "       [2.02681631e-02, 9.30375944e-01, 4.93558925e-02]])"
      ]
     },
     "execution_count": 156,
     "metadata": {},
     "output_type": "execute_result"
    }
   ],
   "source": [
    "predict_proba"
   ]
  },
  {
   "cell_type": "code",
   "execution_count": 138,
   "metadata": {},
   "outputs": [],
   "source": [
    "df[\"tv_final\"] = predicted + df[\"tv\"]"
   ]
  },
  {
   "cell_type": "code",
   "execution_count": 139,
   "metadata": {},
   "outputs": [
    {
     "data": {
      "text/html": [
       "<div>\n",
       "<style scoped>\n",
       "    .dataframe tbody tr th:only-of-type {\n",
       "        vertical-align: middle;\n",
       "    }\n",
       "\n",
       "    .dataframe tbody tr th {\n",
       "        vertical-align: top;\n",
       "    }\n",
       "\n",
       "    .dataframe thead th {\n",
       "        text-align: right;\n",
       "    }\n",
       "</style>\n",
       "<table border=\"1\" class=\"dataframe\">\n",
       "  <thead>\n",
       "    <tr style=\"text-align: right;\">\n",
       "      <th>tv_final</th>\n",
       "      <th>-2.0</th>\n",
       "      <th>-1.0</th>\n",
       "      <th>0.0</th>\n",
       "      <th>1.0</th>\n",
       "      <th>2.0</th>\n",
       "    </tr>\n",
       "    <tr>\n",
       "      <th>tv_final</th>\n",
       "      <th></th>\n",
       "      <th></th>\n",
       "      <th></th>\n",
       "      <th></th>\n",
       "      <th></th>\n",
       "    </tr>\n",
       "  </thead>\n",
       "  <tbody>\n",
       "    <tr>\n",
       "      <th>-2.0</th>\n",
       "      <td>192828</td>\n",
       "      <td>0</td>\n",
       "      <td>0</td>\n",
       "      <td>0</td>\n",
       "      <td>0</td>\n",
       "    </tr>\n",
       "    <tr>\n",
       "      <th>-1.0</th>\n",
       "      <td>0</td>\n",
       "      <td>56749</td>\n",
       "      <td>0</td>\n",
       "      <td>0</td>\n",
       "      <td>0</td>\n",
       "    </tr>\n",
       "    <tr>\n",
       "      <th>0.0</th>\n",
       "      <td>0</td>\n",
       "      <td>0</td>\n",
       "      <td>902253</td>\n",
       "      <td>0</td>\n",
       "      <td>0</td>\n",
       "    </tr>\n",
       "    <tr>\n",
       "      <th>1.0</th>\n",
       "      <td>0</td>\n",
       "      <td>0</td>\n",
       "      <td>0</td>\n",
       "      <td>100052</td>\n",
       "      <td>0</td>\n",
       "    </tr>\n",
       "    <tr>\n",
       "      <th>2.0</th>\n",
       "      <td>0</td>\n",
       "      <td>0</td>\n",
       "      <td>0</td>\n",
       "      <td>0</td>\n",
       "      <td>81621</td>\n",
       "    </tr>\n",
       "  </tbody>\n",
       "</table>\n",
       "</div>"
      ],
      "text/plain": [
       "tv_final    -2.0   -1.0     0.0     1.0    2.0\n",
       "tv_final                                      \n",
       "-2.0      192828      0       0       0      0\n",
       "-1.0           0  56749       0       0      0\n",
       " 0.0           0      0  902253       0      0\n",
       " 1.0           0      0       0  100052      0\n",
       " 2.0           0      0       0       0  81621"
      ]
     },
     "execution_count": 139,
     "metadata": {},
     "output_type": "execute_result"
    }
   ],
   "source": [
    "pd.crosstab(df[\"tv_final\"], df[\"tv_final\"])"
   ]
  },
  {
   "cell_type": "code",
   "execution_count": 202,
   "metadata": {},
   "outputs": [
    {
     "data": {
      "text/plain": [
       " 0.0    0.676604\n",
       "-2.0    0.144603\n",
       " 1.0    0.075029\n",
       " 2.0    0.061208\n",
       "-1.0    0.042556\n",
       "Name: tv_final, dtype: float64"
      ]
     },
     "execution_count": 202,
     "metadata": {},
     "output_type": "execute_result"
    }
   ],
   "source": [
    "df[\"tv_final\"].value_counts(normalize = True)"
   ]
  },
  {
   "cell_type": "markdown",
   "metadata": {},
   "source": [
    "Всего связано с TV как минимум 12% запросов. Но, возможно, из оставшихся 67% есть еще..."
   ]
  },
  {
   "cell_type": "code",
   "execution_count": 150,
   "metadata": {},
   "outputs": [
    {
     "data": {
      "text/plain": [
       "5     нужно ли мыть гречку перед варкой&id=hYYVGyK1c...\n",
       "15                                   тильтовать что это\n",
       "17                             футбол 1 смотреть онлайн\n",
       "47    и всётаки я люблю все серии подряд онлайн бесп...\n",
       "61      смотреть онлайн матч футбол 1 прямая трансляция\n",
       "Name: request, dtype: object"
      ]
     },
     "execution_count": 150,
     "metadata": {},
     "output_type": "execute_result"
    }
   ],
   "source": [
    "df[df[\"tv_final\"] >= 2].request.head()"
   ]
  },
  {
   "cell_type": "code",
   "execution_count": 149,
   "metadata": {},
   "outputs": [
    {
     "data": {
      "text/plain": [
       "0                            порно видео секс за деньги\n",
       "1     sad story скачать бесплатно mp3 в хорошем каче...\n",
       "4                                          порно&rl=313\n",
       "14                                        Limesmedia.ru\n",
       "21                   работа студентов Вив&client=916571\n",
       "Name: request, dtype: object"
      ]
     },
     "execution_count": 149,
     "metadata": {},
     "output_type": "execute_result"
    }
   ],
   "source": [
    "df[df[\"tv_final\"] <= -2].request.head()"
   ]
  },
  {
   "cell_type": "code",
   "execution_count": 184,
   "metadata": {},
   "outputs": [],
   "source": [
    "tfidf_results = text_clf.steps[0][1].transform(df[df[\"tv_final\"] == 2][\"request\"])\n",
    "\n",
    "        \n"
   ]
  },
  {
   "cell_type": "code",
   "execution_count": 193,
   "metadata": {},
   "outputs": [
    {
     "data": {
      "text/plain": [
       "['flag                                               Score: 11257.616435245052',\n",
       " 'client                                             Score: 6721.360098310816',\n",
       " 'rl                                                 Score: 6656.546956663611',\n",
       " 'id                                                 Score: 6520.615736789215',\n",
       " 'сериал                                             Score: 5378.381599753146',\n",
       " 'смотреть                                           Score: 4237.786190235142',\n",
       " 'на                                                 Score: 3823.052927587481',\n",
       " 'онлайн                                             Score: 3418.8215052229934',\n",
       " 'как                                                Score: 2978.4884755996086',\n",
       " 'сезон                                              Score: 2903.356504026397',\n",
       " 'фильм                                              Score: 2725.850228752163',\n",
       " 'что                                                Score: 2280.5322276367265',\n",
       " '2017                                               Score: 2135.808964367424',\n",
       " 'это                                                Score: 1767.805682175132',\n",
       " 'тв                                                 Score: 1609.9439951514437',\n",
       " '2018                                               Score: 1475.686144062048',\n",
       " 'серия                                              Score: 1288.9300479348822',\n",
       " 'не                                                 Score: 1194.6583136130519',\n",
       " 'по                                                 Score: 1141.8905201834443',\n",
       " 'из                                                 Score: 1122.8673931825394',\n",
       " 'фильмы                                             Score: 1115.5095865037317',\n",
       " 'для                                                Score: 1022.235048129755',\n",
       " 'все                                                Score: 1021.863081497801',\n",
       " 'от                                                 Score: 981.5188343330394',\n",
       " 'сколько                                            Score: 958.5104803584597',\n",
       " 'программа                                          Score: 919.8147100368466',\n",
       " 'или                                                Score: 878.1223076168343',\n",
       " 'ли                                                 Score: 871.5028419216177',\n",
       " 'бесплатно                                          Score: 813.1510633444531',\n",
       " 'такое                                              Score: 757.7603462830755',\n",
       " 'сегодня                                            Score: 716.523880021735',\n",
       " 'серии                                              Score: 713.4325953179501',\n",
       " 'цена                                               Score: 699.2487986090321',\n",
       " 'если                                               Score: 681.551489862809',\n",
       " 'золотая                                            Score: 663.7277764170084',\n",
       " 'почему                                             Score: 653.7802060522107',\n",
       " 'качестве                                           Score: 641.0108857163069',\n",
       " 'при                                                Score: 617.1327087655499',\n",
       " 'хорошем                                            Score: 609.8168874584044',\n",
       " 'можно                                              Score: 558.1647651935996',\n",
       " 'за                                                 Score: 552.1967003721193',\n",
       " 'русском                                            Score: 548.3947572614118',\n",
       " 'какой                                              Score: 537.4555510452715',\n",
       " 'кино                                               Score: 507.2394870414552',\n",
       " 'чем                                                Score: 494.9333341849598',\n",
       " 'кто                                                Score: 473.83318143727956',\n",
       " 'где                                                Score: 446.1316956716748',\n",
       " 'класс                                              Score: 439.9687877801947',\n",
       " 'мультфильм                                         Score: 411.85507393430646',\n",
       " 'какие                                              Score: 408.07863658695135']"
      ]
     },
     "execution_count": 193,
     "metadata": {},
     "output_type": "execute_result"
    }
   ],
   "source": [
    "def tfidf_scores(vectorizer, tfidf_result):\n",
    "    # http://stackoverflow.com/questions/16078015/\n",
    "    results = []\n",
    "    scores = zip(vectorizer.get_feature_names(),\n",
    "                 np.asarray(tfidf_result.sum(axis=0)).ravel())\n",
    "    sorted_scores = sorted(scores, key=lambda x: x[1], reverse=True)\n",
    "    for item in sorted_scores:\n",
    "        results.append(\"{0:50} Score: {1}\".format(item[0], item[1]))\n",
    "    return results\n",
    "tfidf_scores(text_clf.steps[0][1], tfidf_results)[:50]"
   ]
  },
  {
   "cell_type": "code",
   "execution_count": null,
   "metadata": {},
   "outputs": [],
   "source": []
  },
  {
   "cell_type": "code",
   "execution_count": null,
   "metadata": {},
   "outputs": [],
   "source": []
  }
 ],
 "metadata": {
  "kernelspec": {
   "display_name": "Python 3",
   "language": "python",
   "name": "python3"
  },
  "language_info": {
   "codemirror_mode": {
    "name": "ipython",
    "version": 3
   },
   "file_extension": ".py",
   "mimetype": "text/x-python",
   "name": "python",
   "nbconvert_exporter": "python",
   "pygments_lexer": "ipython3",
   "version": "3.6.1"
  }
 },
 "nbformat": 4,
 "nbformat_minor": 2
}
